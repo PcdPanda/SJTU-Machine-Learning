{
 "cells": [
  {
   "cell_type": "code",
   "execution_count": null,
   "metadata": {},
   "outputs": [],
   "source": [
    "import pandas as pd\n",
    "import numpy as np\n",
    "import matplotlib.pyplot as plt\n",
    "\n",
    "df = pd.read_csv('AirPassengers.csv',index_col='Month',parse_dates=True)\n",
    "df.index.freq = 'MS'\n",
    "df.head()"
   ]
  },
  {
   "cell_type": "code",
   "execution_count": null,
   "metadata": {},
   "outputs": [],
   "source": [
    "train_data = df.iloc[:108]\n",
    "test_data = df.iloc[108:]"
   ]
  },
  {
   "cell_type": "code",
   "execution_count": null,
   "metadata": {},
   "outputs": [],
   "source": [
    "train_data['#Passengers'].plot(legend=True,label='TRAIN')\n",
    "test_data['#Passengers'].plot(legend=True,label='TEST',figsize=(12,8));"
   ]
  },
  {
   "cell_type": "code",
   "execution_count": null,
   "metadata": {},
   "outputs": [],
   "source": [
    "from statsmodels.tsa.seasonal import seasonal_decompose\n",
    "seasonal_decompose(train_data['#Passengers']).plot();"
   ]
  },
  {
   "cell_type": "code",
   "execution_count": null,
   "metadata": {},
   "outputs": [],
   "source": [
    "from statsmodels.tsa.holtwinters import SimpleExpSmoothing\n",
    "span = 12 # The model will consider the last 12 months weighted average for forecasting\n",
    "alpha = 2/(span+1)\n",
    "model = SimpleExpSmoothing(train_data['#Passengers']).fit(smoothing_level=alpha)\n",
    "test_predictions = model.forecast(36).rename('SES Forecast')"
   ]
  },
  {
   "cell_type": "code",
   "execution_count": null,
   "metadata": {},
   "outputs": [],
   "source": [
    "train_data['#Passengers'].plot(legend=True,label='TRAIN')\n",
    "test_data['#Passengers'].plot(legend=True,label='TEST',figsize=(12,8))\n",
    "test_predictions.plot(legend=True,label='PREDICTION');"
   ]
  },
  {
   "cell_type": "code",
   "execution_count": null,
   "metadata": {},
   "outputs": [],
   "source": [
    "from sklearn.metrics import mean_squared_error\n",
    "rms_error = np.sqrt(mean_squared_error(test_data['#Passengers'],test_predictions))\n",
    "print(\"RMS Error is \",rms_error)"
   ]
  },
  {
   "cell_type": "code",
   "execution_count": null,
   "metadata": {},
   "outputs": [],
   "source": [
    "from statsmodels.tsa.holtwinters import ExponentialSmoothing\n",
    "double_model = ExponentialSmoothing(train_data['#Passengers'],trend='add').fit()\n",
    "test_predictions = double_model.forecast(36).rename('DES Forecast')"
   ]
  },
  {
   "cell_type": "code",
   "execution_count": null,
   "metadata": {},
   "outputs": [],
   "source": [
    "train_data['#Passengers'].plot(legend=True,label='TRAIN')\n",
    "test_data['#Passengers'].plot(legend=True,label='TEST',figsize=(12,8))\n",
    "test_predictions.plot(legend=True,label='PREDICTION');"
   ]
  },
  {
   "cell_type": "code",
   "execution_count": null,
   "metadata": {},
   "outputs": [],
   "source": [
    "rms_error = np.sqrt(mean_squared_error(test_data['#Passengers'],test_predictions))\n",
    "print(\"RMS Error for DES is \",rms_error)"
   ]
  },
  {
   "cell_type": "code",
   "execution_count": null,
   "metadata": {},
   "outputs": [],
   "source": [
    "from statsmodels.tsa.holtwinters import ExponentialSmoothing\n",
    "triple_model = ExponentialSmoothing(train_data['#Passengers'],trend='add',seasonal='add',seasonal_periods=12).fit()\n",
    "test_predictions = triple_model.forecast(36).rename('TES Forecast')"
   ]
  },
  {
   "cell_type": "code",
   "execution_count": null,
   "metadata": {},
   "outputs": [],
   "source": [
    "train_data['#Passengers'].plot(legend=True,label='TRAIN')\n",
    "test_data['#Passengers'].plot(legend=True,label='TEST',figsize=(12,8))\n",
    "test_predictions.plot(legend=True,label='PREDICTION');"
   ]
  },
  {
   "cell_type": "code",
   "execution_count": null,
   "metadata": {},
   "outputs": [],
   "source": [
    "rms_error = np.sqrt(mean_squared_error(test_data['#Passengers'],test_predictions))\n",
    "print(\"RMS Error for TES is \",rms_error)"
   ]
  },
  {
   "cell_type": "code",
   "execution_count": null,
   "metadata": {},
   "outputs": [],
   "source": []
  }
 ],
 "metadata": {
  "kernelspec": {
   "display_name": "Python 3",
   "language": "python",
   "name": "python3"
  },
  "language_info": {
   "codemirror_mode": {
    "name": "ipython",
    "version": 3
   },
   "file_extension": ".py",
   "mimetype": "text/x-python",
   "name": "python",
   "nbconvert_exporter": "python",
   "pygments_lexer": "ipython3",
   "version": "3.7.0"
  }
 },
 "nbformat": 4,
 "nbformat_minor": 2
}
