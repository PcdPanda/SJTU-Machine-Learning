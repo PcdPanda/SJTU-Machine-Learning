{
 "cells": [
  {
   "cell_type": "code",
   "execution_count": null,
   "metadata": {},
   "outputs": [],
   "source": [
    "import numpy as np\n",
    "import matplotlib.pyplot as plt\n",
    "from random import gauss\n",
    "\n",
    "\n",
    "#s = 0\n",
    "c, r = 1.0, 2.0\n",
    "mu, sigma = 100, 20\n",
    "M = 5000 #number of randomizations\n",
    "\n",
    "order,profit=[],[]\n",
    "for q in range(mu-4*sigma, mu+4*sigma):\n",
    "    avg = 0\n",
    "    for trial in range(M):\n",
    "        D = int(0.5 + np.random.normal(mu,sigma))\n",
    "        pi = r*min(q,D) - c*q\n",
    "        avg += pi\n",
    "\n",
    "    order.append(q)\n",
    "    profit.append(avg/M)\n",
    "\n",
    "plt.plot(order, profit)\n",
    "plt.show()"
   ]
  },
  {
   "cell_type": "code",
   "execution_count": null,
   "metadata": {},
   "outputs": [],
   "source": [
    "import scipy.stats\n",
    "nv_quantile = (r-c)/r\n",
    "opt_order = mu + sigma*scipy.stats.norm.ppf(nv_quantile)\n",
    "print(opt_order)"
   ]
  }
 ],
 "metadata": {
  "kernelspec": {
   "display_name": "Python 3",
   "language": "python",
   "name": "python3"
  },
  "language_info": {
   "codemirror_mode": {
    "name": "ipython",
    "version": 3
   },
   "file_extension": ".py",
   "mimetype": "text/x-python",
   "name": "python",
   "nbconvert_exporter": "python",
   "pygments_lexer": "ipython3",
   "version": "3.7.0"
  }
 },
 "nbformat": 4,
 "nbformat_minor": 2
}
